{
 "cells": [
  {
   "cell_type": "markdown",
   "id": "6a3258e0",
   "metadata": {},
   "source": [
    "# automate-whatsapp [python-mini-projects]"
   ]
  },
  {
   "cell_type": "markdown",
   "id": "0b4030d9",
   "metadata": {},
   "source": [
    "##### Date Uploaded : 15 August 2023, Date Updated   : 15 August 2023\n",
    "##### Author              : github.com/akhand96\n",
    "##### Direct Link        :\n",
    "##### Description     : Whatsapp is an essential tool for our day to day communication, therefore it became important to try tools and techniques to automate it. This will help us to reach larger userbase in minimum time. Also, this project is very useful for small businesses, people sending daily greetings, students, etc.\n",
    "##### NOTE: To let this setup work, you must first open and login whatsapp web on same browser."
   ]
  },
  {
   "cell_type": "markdown",
   "id": "d1e500a7",
   "metadata": {},
   "source": [
    "### 1. Installing pywhatkit\n",
    "##### --> pywhatkit is essential python library required for dealing with whatsapp related automations in python. It's easy-to-use and does not require you to do any additional setup. Currently, it is one of the most popular library for WhatsApp and YouTube automation. More documentation related to pywhatkit can be found on- https://pypi.org/project/pywhatkit."
   ]
  },
  {
   "cell_type": "code",
   "execution_count": 1,
   "id": "bd423a63",
   "metadata": {},
   "outputs": [],
   "source": [
    "# pip install pywhatkit"
   ]
  },
  {
   "cell_type": "markdown",
   "id": "3febe72a",
   "metadata": {},
   "source": [
    "### 2. Code"
   ]
  },
  {
   "cell_type": "code",
   "execution_count": null,
   "id": "7a7e60d1",
   "metadata": {},
   "outputs": [
    {
     "name": "stdout",
     "output_type": "stream",
     "text": [
      "In 55691 Seconds WhatsApp will open and after 15 Seconds Message will be Delivered!\n"
     ]
    }
   ],
   "source": [
    "import pywhatkit as whatsapp\n",
    "\n",
    "# We provide 4 arguments here, 1. Mobile No. of reciever, 2. Message, 3. Scheduled Hour in 24hr format, 4. Scheduled Minute\n",
    "whatsapp.sendwhatmsg('+919123491234', 'Hi, this message is sent using Python.', 15, 15)"
   ]
  },
  {
   "cell_type": "code",
   "execution_count": null,
   "id": "4d2b5fbb",
   "metadata": {},
   "outputs": [],
   "source": [
    "# Send a WhatsApp Message to a Contact at 1:30 PM\n",
    "pywhatkit.sendwhatmsg(\"+919123491234\", \"Hi\", 13, 30)"
   ]
  },
  {
   "cell_type": "code",
   "execution_count": null,
   "id": "37d83d22",
   "metadata": {},
   "outputs": [],
   "source": [
    "# Same as above but Closes the Tab in 2 Seconds after Sending the Message\n",
    "pywhatkit.sendwhatmsg(\"+919123491234\", \"Hi\", 13, 30, 15, True, 2)"
   ]
  },
  {
   "cell_type": "code",
   "execution_count": null,
   "id": "0576ee07",
   "metadata": {},
   "outputs": [],
   "source": [
    "# Send an Image to a Group with the Caption as Hello\n",
    "pywhatkit.sendwhats_image(\"GroupName\", \"Images/Hello.png\", \"Hello\")"
   ]
  },
  {
   "cell_type": "code",
   "execution_count": null,
   "id": "1eb4571e",
   "metadata": {},
   "outputs": [],
   "source": [
    "# Send an Image to a Contact with the no Caption\n",
    "pywhatkit.sendwhats_image(\"+919123491234\", \"Images/Hello.png\")"
   ]
  },
  {
   "cell_type": "code",
   "execution_count": null,
   "id": "61e94280",
   "metadata": {},
   "outputs": [],
   "source": [
    "# Send a WhatsApp Message to a Group at 12:00 AM\n",
    "pywhatkit.sendwhatmsg_to_group(\"GroupName\", \"Hey All!\", 0, 0)"
   ]
  },
  {
   "cell_type": "code",
   "execution_count": null,
   "id": "3a50e5ec",
   "metadata": {},
   "outputs": [],
   "source": [
    "# Send a WhatsApp Message to a Group instantly\n",
    "pywhatkit.sendwhatmsg_to_group_instantly(\"GroupName\", \"Hey All!\")"
   ]
  },
  {
   "cell_type": "code",
   "execution_count": null,
   "id": "933f90f9",
   "metadata": {},
   "outputs": [],
   "source": []
  }
 ],
 "metadata": {
  "kernelspec": {
   "display_name": "Python 3 (ipykernel)",
   "language": "python",
   "name": "python3"
  },
  "language_info": {
   "codemirror_mode": {
    "name": "ipython",
    "version": 3
   },
   "file_extension": ".py",
   "mimetype": "text/x-python",
   "name": "python",
   "nbconvert_exporter": "python",
   "pygments_lexer": "ipython3",
   "version": "3.10.9"
  }
 },
 "nbformat": 4,
 "nbformat_minor": 5
}
